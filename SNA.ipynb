{
 "cells": [
  {
   "cell_type": "code",
   "execution_count": 10,
   "metadata": {},
   "outputs": [],
   "source": [
    "# interactive plots in Jupyter, used to show plots inline in the notebook\n",
    "%matplotlib inline\n",
    "\n",
    "# The networkx library\n",
    "import networkx as nx\n",
    "\n",
    "# Numpy for enhanced math array management\n",
    "import numpy as np\n",
    "\n",
    "# statistical tools (we only use ECDF)\n",
    "from statsmodels.distributions.empirical_distribution import ECDF\n",
    "\n",
    "# Mathematical plotting\n",
    "import matplotlib.pyplot as plt\n",
    "import matplotlib.gridspec as gridspec\n",
    "\n",
    "# use to control whether to show the entire cell output or only the last_expr (default)\n",
    "from IPython.core.interactiveshell import InteractiveShell\n",
    "InteractiveShell.ast_node_interactivity = \"all\"\n",
    "\n",
    "# to generate random numbers\n",
    "from random import *\n",
    "\n",
    "# to fit power law distributions\n",
    "from powerlaw import *"
   ]
  },
  {
   "cell_type": "code",
   "execution_count": 19,
   "metadata": {},
   "outputs": [
    {
     "name": "stdout",
     "output_type": "stream",
     "text": [
      "<class 'networkx.classes.multigraph.MultiGraph'>\n"
     ]
    }
   ],
   "source": [
    "# Import graph\n",
    "graph_days = nx.read_pajek('Days.net')\n",
    "print(type(graph_days))"
   ]
  },
  {
   "cell_type": "code",
   "execution_count": 20,
   "metadata": {},
   "outputs": [
    {
     "name": "stdout",
     "output_type": "stream",
     "text": [
      "MultiGraph with 13332 nodes and 243447 edges\n"
     ]
    }
   ],
   "source": [
    "print(graph_days)"
   ]
  },
  {
   "cell_type": "code",
   "execution_count": 21,
   "metadata": {},
   "outputs": [
    {
     "name": "stdout",
     "output_type": "stream",
     "text": [
      "<class 'networkx.classes.multidigraph.MultiDiGraph'>\n"
     ]
    }
   ],
   "source": [
    "# Import graph\n",
    "EAT_graph = nx.read_pajek('EATnew.net')\n",
    "print(type(EAT_graph))"
   ]
  },
  {
   "cell_type": "code",
   "execution_count": 22,
   "metadata": {},
   "outputs": [
    {
     "name": "stdout",
     "output_type": "stream",
     "text": [
      "MultiDiGraph named 'EATnew\\r' with 23219 nodes and 325593 edges\n"
     ]
    }
   ],
   "source": [
    "print(EAT_graph)"
   ]
  },
  {
   "cell_type": "code",
   "execution_count": 24,
   "metadata": {},
   "outputs": [
    {
     "data": {
      "text/plain": [
       "False"
      ]
     },
     "execution_count": 24,
     "metadata": {},
     "output_type": "execute_result"
    },
    {
     "data": {
      "text/plain": [
       "True"
      ]
     },
     "execution_count": 24,
     "metadata": {},
     "output_type": "execute_result"
    }
   ],
   "source": [
    "# Check whether the graph is connected or not\n",
    "nx.is_strongly_connected(EAT_graph)\n",
    "nx.is_weakly_connected(EAT_graph)"
   ]
  }
 ],
 "metadata": {
  "kernelspec": {
   "display_name": "env_master",
   "language": "python",
   "name": "python3"
  },
  "language_info": {
   "codemirror_mode": {
    "name": "ipython",
    "version": 3
   },
   "file_extension": ".py",
   "mimetype": "text/x-python",
   "name": "python",
   "nbconvert_exporter": "python",
   "pygments_lexer": "ipython3",
   "version": "3.11.9"
  }
 },
 "nbformat": 4,
 "nbformat_minor": 2
}
